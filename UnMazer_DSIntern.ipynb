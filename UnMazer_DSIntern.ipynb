{
 "cells": [
  {
   "cell_type": "markdown",
   "metadata": {
    "id": "KHCrypE2zxAK"
   },
   "source": [
    "### Arsh Mittal\n",
    "#### +919654035083\n",
    "#### arshmittal16@gmail.com\n",
    "#### Role: Data Science Intern"
   ]
  },
  {
   "cell_type": "code",
   "execution_count": 33,
   "metadata": {
    "id": "f5uqrvI-zxAM"
   },
   "outputs": [],
   "source": [
    "import pandas as pd\n",
    "import seaborn as sns\n",
    "import matplotlib.pyplot as plt"
   ]
  },
  {
   "cell_type": "code",
   "execution_count": 6,
   "metadata": {
    "id": "-7k0M22zzxAN"
   },
   "outputs": [],
   "source": [
    "austin = pd.read_csv('listings.csv')"
   ]
  },
  {
   "cell_type": "code",
   "execution_count": 7,
   "metadata": {
    "colab": {
     "base_uri": "https://localhost:8080/",
     "height": 567
    },
    "id": "uIlQJEMUzxAO",
    "outputId": "7c74ec9c-387c-4d82-e117-0cad30dd2eb7"
   },
   "outputs": [
    {
     "data": {
      "text/html": [
       "<div>\n",
       "<style scoped>\n",
       "    .dataframe tbody tr th:only-of-type {\n",
       "        vertical-align: middle;\n",
       "    }\n",
       "\n",
       "    .dataframe tbody tr th {\n",
       "        vertical-align: top;\n",
       "    }\n",
       "\n",
       "    .dataframe thead th {\n",
       "        text-align: right;\n",
       "    }\n",
       "</style>\n",
       "<table border=\"1\" class=\"dataframe\">\n",
       "  <thead>\n",
       "    <tr style=\"text-align: right;\">\n",
       "      <th></th>\n",
       "      <th>id</th>\n",
       "      <th>name</th>\n",
       "      <th>host_id</th>\n",
       "      <th>host_name</th>\n",
       "      <th>neighbourhood_group</th>\n",
       "      <th>neighbourhood</th>\n",
       "      <th>latitude</th>\n",
       "      <th>longitude</th>\n",
       "      <th>room_type</th>\n",
       "      <th>price</th>\n",
       "      <th>minimum_nights</th>\n",
       "      <th>number_of_reviews</th>\n",
       "      <th>last_review</th>\n",
       "      <th>reviews_per_month</th>\n",
       "      <th>calculated_host_listings_count</th>\n",
       "      <th>availability_365</th>\n",
       "    </tr>\n",
       "  </thead>\n",
       "  <tbody>\n",
       "    <tr>\n",
       "      <th>0</th>\n",
       "      <td>2265</td>\n",
       "      <td>Zen-East in the Heart of Austin (monthly rental)</td>\n",
       "      <td>2466</td>\n",
       "      <td>Paddy</td>\n",
       "      <td>NaN</td>\n",
       "      <td>78702</td>\n",
       "      <td>30.27750</td>\n",
       "      <td>-97.71398</td>\n",
       "      <td>Entire home/apt</td>\n",
       "      <td>200</td>\n",
       "      <td>7</td>\n",
       "      <td>24</td>\n",
       "      <td>2019-03-16</td>\n",
       "      <td>0.17</td>\n",
       "      <td>3</td>\n",
       "      <td>131</td>\n",
       "    </tr>\n",
       "    <tr>\n",
       "      <th>1</th>\n",
       "      <td>5245</td>\n",
       "      <td>Eco friendly, Colorful, Clean, Cozy monthly share</td>\n",
       "      <td>2466</td>\n",
       "      <td>Paddy</td>\n",
       "      <td>NaN</td>\n",
       "      <td>78702</td>\n",
       "      <td>30.27577</td>\n",
       "      <td>-97.71379</td>\n",
       "      <td>Private room</td>\n",
       "      <td>114</td>\n",
       "      <td>30</td>\n",
       "      <td>9</td>\n",
       "      <td>2018-03-14</td>\n",
       "      <td>0.06</td>\n",
       "      <td>3</td>\n",
       "      <td>0</td>\n",
       "    </tr>\n",
       "    <tr>\n",
       "      <th>2</th>\n",
       "      <td>5456</td>\n",
       "      <td>Walk to 6th, Rainey St and Convention Ctr</td>\n",
       "      <td>8028</td>\n",
       "      <td>Sylvia</td>\n",
       "      <td>NaN</td>\n",
       "      <td>78702</td>\n",
       "      <td>30.26112</td>\n",
       "      <td>-97.73448</td>\n",
       "      <td>Entire home/apt</td>\n",
       "      <td>104</td>\n",
       "      <td>2</td>\n",
       "      <td>543</td>\n",
       "      <td>2021-02-01</td>\n",
       "      <td>3.74</td>\n",
       "      <td>1</td>\n",
       "      <td>354</td>\n",
       "    </tr>\n",
       "    <tr>\n",
       "      <th>3</th>\n",
       "      <td>5636</td>\n",
       "      <td>Soco, Barton Springs Private Guest Cottage</td>\n",
       "      <td>7148</td>\n",
       "      <td>Peggy</td>\n",
       "      <td>NaN</td>\n",
       "      <td>78704</td>\n",
       "      <td>30.24630</td>\n",
       "      <td>-97.76361</td>\n",
       "      <td>Entire home/apt</td>\n",
       "      <td>46</td>\n",
       "      <td>30</td>\n",
       "      <td>21</td>\n",
       "      <td>2020-11-06</td>\n",
       "      <td>0.15</td>\n",
       "      <td>2</td>\n",
       "      <td>67</td>\n",
       "    </tr>\n",
       "    <tr>\n",
       "      <th>4</th>\n",
       "      <td>5769</td>\n",
       "      <td>NW Austin Room</td>\n",
       "      <td>8186</td>\n",
       "      <td>Elizabeth</td>\n",
       "      <td>NaN</td>\n",
       "      <td>78729</td>\n",
       "      <td>30.45697</td>\n",
       "      <td>-97.78422</td>\n",
       "      <td>Private room</td>\n",
       "      <td>39</td>\n",
       "      <td>1</td>\n",
       "      <td>259</td>\n",
       "      <td>2021-02-10</td>\n",
       "      <td>1.96</td>\n",
       "      <td>1</td>\n",
       "      <td>79</td>\n",
       "    </tr>\n",
       "  </tbody>\n",
       "</table>\n",
       "</div>"
      ],
      "text/plain": [
       "     id  ... availability_365\n",
       "0  2265  ...              131\n",
       "1  5245  ...                0\n",
       "2  5456  ...              354\n",
       "3  5636  ...               67\n",
       "4  5769  ...               79\n",
       "\n",
       "[5 rows x 16 columns]"
      ]
     },
     "execution_count": 7,
     "metadata": {
      "tags": []
     },
     "output_type": "execute_result"
    }
   ],
   "source": [
    "austin.head()"
   ]
  },
  {
   "cell_type": "code",
   "execution_count": 8,
   "metadata": {
    "colab": {
     "base_uri": "https://localhost:8080/"
    },
    "id": "998xe2VVzxAP",
    "outputId": "d30173c6-b276-4506-8805-5cf59275933f"
   },
   "outputs": [
    {
     "data": {
      "text/plain": [
       "(10272, 16)"
      ]
     },
     "execution_count": 8,
     "metadata": {
      "tags": []
     },
     "output_type": "execute_result"
    }
   ],
   "source": [
    "austin.shape"
   ]
  },
  {
   "cell_type": "code",
   "execution_count": 9,
   "metadata": {
    "id": "th06cRNlzxAP"
   },
   "outputs": [],
   "source": [
    "# Dropping features which are irrelevant\n",
    "austin.drop(columns = ['id', 'name', 'host_id', 'neighbourhood_group'], inplace = True)"
   ]
  },
  {
   "cell_type": "code",
   "execution_count": 10,
   "metadata": {
    "colab": {
     "base_uri": "https://localhost:8080/",
     "height": 301
    },
    "id": "cXiH68hvzxAQ",
    "outputId": "cfe3032c-d16f-4192-a325-4b1561a75ad3"
   },
   "outputs": [
    {
     "data": {
      "text/html": [
       "<div>\n",
       "<style scoped>\n",
       "    .dataframe tbody tr th:only-of-type {\n",
       "        vertical-align: middle;\n",
       "    }\n",
       "\n",
       "    .dataframe tbody tr th {\n",
       "        vertical-align: top;\n",
       "    }\n",
       "\n",
       "    .dataframe thead th {\n",
       "        text-align: right;\n",
       "    }\n",
       "</style>\n",
       "<table border=\"1\" class=\"dataframe\">\n",
       "  <thead>\n",
       "    <tr style=\"text-align: right;\">\n",
       "      <th></th>\n",
       "      <th>host_name</th>\n",
       "      <th>neighbourhood</th>\n",
       "      <th>latitude</th>\n",
       "      <th>longitude</th>\n",
       "      <th>room_type</th>\n",
       "      <th>price</th>\n",
       "      <th>minimum_nights</th>\n",
       "      <th>number_of_reviews</th>\n",
       "      <th>last_review</th>\n",
       "      <th>reviews_per_month</th>\n",
       "      <th>calculated_host_listings_count</th>\n",
       "      <th>availability_365</th>\n",
       "    </tr>\n",
       "  </thead>\n",
       "  <tbody>\n",
       "    <tr>\n",
       "      <th>0</th>\n",
       "      <td>Paddy</td>\n",
       "      <td>78702</td>\n",
       "      <td>30.27750</td>\n",
       "      <td>-97.71398</td>\n",
       "      <td>Entire home/apt</td>\n",
       "      <td>200</td>\n",
       "      <td>7</td>\n",
       "      <td>24</td>\n",
       "      <td>2019-03-16</td>\n",
       "      <td>0.17</td>\n",
       "      <td>3</td>\n",
       "      <td>131</td>\n",
       "    </tr>\n",
       "    <tr>\n",
       "      <th>1</th>\n",
       "      <td>Paddy</td>\n",
       "      <td>78702</td>\n",
       "      <td>30.27577</td>\n",
       "      <td>-97.71379</td>\n",
       "      <td>Private room</td>\n",
       "      <td>114</td>\n",
       "      <td>30</td>\n",
       "      <td>9</td>\n",
       "      <td>2018-03-14</td>\n",
       "      <td>0.06</td>\n",
       "      <td>3</td>\n",
       "      <td>0</td>\n",
       "    </tr>\n",
       "    <tr>\n",
       "      <th>2</th>\n",
       "      <td>Sylvia</td>\n",
       "      <td>78702</td>\n",
       "      <td>30.26112</td>\n",
       "      <td>-97.73448</td>\n",
       "      <td>Entire home/apt</td>\n",
       "      <td>104</td>\n",
       "      <td>2</td>\n",
       "      <td>543</td>\n",
       "      <td>2021-02-01</td>\n",
       "      <td>3.74</td>\n",
       "      <td>1</td>\n",
       "      <td>354</td>\n",
       "    </tr>\n",
       "    <tr>\n",
       "      <th>3</th>\n",
       "      <td>Peggy</td>\n",
       "      <td>78704</td>\n",
       "      <td>30.24630</td>\n",
       "      <td>-97.76361</td>\n",
       "      <td>Entire home/apt</td>\n",
       "      <td>46</td>\n",
       "      <td>30</td>\n",
       "      <td>21</td>\n",
       "      <td>2020-11-06</td>\n",
       "      <td>0.15</td>\n",
       "      <td>2</td>\n",
       "      <td>67</td>\n",
       "    </tr>\n",
       "    <tr>\n",
       "      <th>4</th>\n",
       "      <td>Elizabeth</td>\n",
       "      <td>78729</td>\n",
       "      <td>30.45697</td>\n",
       "      <td>-97.78422</td>\n",
       "      <td>Private room</td>\n",
       "      <td>39</td>\n",
       "      <td>1</td>\n",
       "      <td>259</td>\n",
       "      <td>2021-02-10</td>\n",
       "      <td>1.96</td>\n",
       "      <td>1</td>\n",
       "      <td>79</td>\n",
       "    </tr>\n",
       "  </tbody>\n",
       "</table>\n",
       "</div>"
      ],
      "text/plain": [
       "   host_name  neighbourhood  ...  calculated_host_listings_count  availability_365\n",
       "0      Paddy          78702  ...                               3               131\n",
       "1      Paddy          78702  ...                               3                 0\n",
       "2     Sylvia          78702  ...                               1               354\n",
       "3      Peggy          78704  ...                               2                67\n",
       "4  Elizabeth          78729  ...                               1                79\n",
       "\n",
       "[5 rows x 12 columns]"
      ]
     },
     "execution_count": 10,
     "metadata": {
      "tags": []
     },
     "output_type": "execute_result"
    }
   ],
   "source": [
    "austin.head()"
   ]
  },
  {
   "cell_type": "markdown",
   "metadata": {
    "id": "K0mihDJUzxAQ"
   },
   "source": [
    "#### Question 1.\n",
    "##### Top areas with highest number of listings"
   ]
  },
  {
   "cell_type": "code",
   "execution_count": null,
   "metadata": {
    "id": "Pjx6LWTRzxAQ",
    "outputId": "4c3abbb4-3d9a-4b64-e5e8-14324751b575"
   },
   "outputs": [
    {
     "data": {
      "text/plain": [
       "78704    1822\n",
       "78702    1263\n",
       "78701     713\n",
       "78741     622\n",
       "78703     530\n",
       "Name: neighbourhood, dtype: int64"
      ]
     },
     "execution_count": 19,
     "metadata": {
      "tags": []
     },
     "output_type": "execute_result"
    }
   ],
   "source": [
    "## using functions \n",
    "austin.neighbourhood.value_counts().head()"
   ]
  },
  {
   "cell_type": "code",
   "execution_count": null,
   "metadata": {
    "id": "i24qNeyszxAR"
   },
   "outputs": [],
   "source": [
    "## from scratch\n",
    "dic = {}\n",
    "\n",
    "neigh = list(austin['neighbourhood'])\n",
    "\n",
    "for i in range(len(neigh)):\n",
    "  if neigh[i] not in dic:\n",
    "    dic[neigh[i]] = 1\n",
    "  else:\n",
    "    dic[neigh[i]] += 1\n",
    "    \n",
    "keys = list(dic.keys())\n",
    "vals = list(dic.values())\n",
    "tp = list(dic.values())\n",
    "\n",
    "tp.sort(reverse = True)\n",
    "\n",
    "top_nei = []\n",
    "\n",
    "for i in range(10):\n",
    "  top_nei.append(keys[vals.index(tp[i])])"
   ]
  },
  {
   "cell_type": "code",
   "execution_count": null,
   "metadata": {
    "id": "a9KRui-7zxAR",
    "outputId": "b9dc8694-a513-4065-c819-8554e55bc176"
   },
   "outputs": [
    {
     "data": {
      "text/plain": [
       "[78704, 78702, 78701, 78741, 78703, 78745, 78705, 78751, 78723, 78758]"
      ]
     },
     "execution_count": 31,
     "metadata": {
      "tags": []
     },
     "output_type": "execute_result"
    }
   ],
   "source": [
    "top_nei"
   ]
  },
  {
   "cell_type": "markdown",
   "metadata": {
    "id": "dlPeilahzxAR"
   },
   "source": [
    "##### Question 2\n",
    "##### Thematic Maps"
   ]
  },
  {
   "cell_type": "code",
   "execution_count": null,
   "metadata": {
    "id": "ddeCbbbDzxAR"
   },
   "outputs": [],
   "source": [
    "!pip install geopandas"
   ]
  },
  {
   "cell_type": "code",
   "execution_count": 3,
   "metadata": {
    "id": "3CCbeWEQzxAS"
   },
   "outputs": [],
   "source": [
    "import geopandas as gpd"
   ]
  },
  {
   "cell_type": "code",
   "execution_count": 11,
   "metadata": {
    "colab": {
     "base_uri": "https://localhost:8080/"
    },
    "id": "MGDx7fpNzxAS",
    "outputId": "a03d7f6a-a730-43e6-cca4-0eca5e7bf821"
   },
   "outputs": [
    {
     "data": {
      "text/plain": [
       "Entire home/apt    7962\n",
       "Private room       2166\n",
       "Shared room         133\n",
       "Hotel room           11\n",
       "Name: room_type, dtype: int64"
      ]
     },
     "execution_count": 11,
     "metadata": {
      "tags": []
     },
     "output_type": "execute_result"
    }
   ],
   "source": [
    "austin.room_type.value_counts()"
   ]
  },
  {
   "cell_type": "code",
   "execution_count": 22,
   "metadata": {
    "id": "cy0cUh9rzxAS"
   },
   "outputs": [],
   "source": [
    "entire = austin.loc[austin['room_type']=='Entire home/apt']\n",
    "private = austin.loc[austin['room_type']=='Private room']"
   ]
  },
  {
   "cell_type": "code",
   "execution_count": 31,
   "metadata": {
    "id": "oo4KCgdizxAS"
   },
   "outputs": [],
   "source": [
    "neigh = gpd.read_file('/content/neighbourhoods.geojson')"
   ]
  },
  {
   "cell_type": "code",
   "execution_count": 23,
   "metadata": {
    "id": "jFoupW7UzxAS"
   },
   "outputs": [],
   "source": [
    "entire = pd.DataFrame(entire['neighbourhood'].value_counts())\n",
    "private = pd.DataFrame(private['neighbourhood'].value_counts())"
   ]
  },
  {
   "cell_type": "code",
   "execution_count": 24,
   "metadata": {
    "id": "nJVuH1RD0wkl"
   },
   "outputs": [],
   "source": [
    "entire.columns = ['Entire']\n",
    "private.columns = ['Private']"
   ]
  },
  {
   "cell_type": "code",
   "execution_count": 25,
   "metadata": {
    "id": "z8wB-PKc1Zhv"
   },
   "outputs": [],
   "source": [
    "entire['neighbourhood']=entire.index\n",
    "private['neighbourhood']=private.index"
   ]
  },
  {
   "cell_type": "code",
   "execution_count": 26,
   "metadata": {
    "id": "HRmC8X2o0wud"
   },
   "outputs": [],
   "source": [
    "entire.reset_index(drop = True, inplace = True)\n",
    "private.reset_index(drop = True, inplace = True)"
   ]
  },
  {
   "cell_type": "code",
   "execution_count": 17,
   "metadata": {
    "colab": {
     "base_uri": "https://localhost:8080/",
     "height": 197
    },
    "id": "nu7rFT7d0w5p",
    "outputId": "1e0d3889-841a-4dae-fc0c-b5aa87d894e7"
   },
   "outputs": [
    {
     "data": {
      "text/html": [
       "<div>\n",
       "<style scoped>\n",
       "    .dataframe tbody tr th:only-of-type {\n",
       "        vertical-align: middle;\n",
       "    }\n",
       "\n",
       "    .dataframe tbody tr th {\n",
       "        vertical-align: top;\n",
       "    }\n",
       "\n",
       "    .dataframe thead th {\n",
       "        text-align: right;\n",
       "    }\n",
       "</style>\n",
       "<table border=\"1\" class=\"dataframe\">\n",
       "  <thead>\n",
       "    <tr style=\"text-align: right;\">\n",
       "      <th></th>\n",
       "      <th>neighbourhood</th>\n",
       "      <th>neighbourhood_group</th>\n",
       "      <th>geometry</th>\n",
       "    </tr>\n",
       "  </thead>\n",
       "  <tbody>\n",
       "    <tr>\n",
       "      <th>0</th>\n",
       "      <td>78739</td>\n",
       "      <td>None</td>\n",
       "      <td>MULTIPOLYGON (((-97.89002 30.20941, -97.88929 ...</td>\n",
       "    </tr>\n",
       "    <tr>\n",
       "      <th>1</th>\n",
       "      <td>78754</td>\n",
       "      <td>None</td>\n",
       "      <td>MULTIPOLYGON (((-97.63658 30.40266, -97.63754 ...</td>\n",
       "    </tr>\n",
       "    <tr>\n",
       "      <th>2</th>\n",
       "      <td>78732</td>\n",
       "      <td>None</td>\n",
       "      <td>MULTIPOLYGON (((-97.87303 30.43806, -97.87335 ...</td>\n",
       "    </tr>\n",
       "    <tr>\n",
       "      <th>3</th>\n",
       "      <td>78737</td>\n",
       "      <td>None</td>\n",
       "      <td>MULTIPOLYGON (((-98.01876 30.24167, -98.01617 ...</td>\n",
       "    </tr>\n",
       "    <tr>\n",
       "      <th>4</th>\n",
       "      <td>78756</td>\n",
       "      <td>None</td>\n",
       "      <td>MULTIPOLYGON (((-97.72792 30.32906, -97.72760 ...</td>\n",
       "    </tr>\n",
       "  </tbody>\n",
       "</table>\n",
       "</div>"
      ],
      "text/plain": [
       "  neighbourhood  ...                                           geometry\n",
       "0         78739  ...  MULTIPOLYGON (((-97.89002 30.20941, -97.88929 ...\n",
       "1         78754  ...  MULTIPOLYGON (((-97.63658 30.40266, -97.63754 ...\n",
       "2         78732  ...  MULTIPOLYGON (((-97.87303 30.43806, -97.87335 ...\n",
       "3         78737  ...  MULTIPOLYGON (((-98.01876 30.24167, -98.01617 ...\n",
       "4         78756  ...  MULTIPOLYGON (((-97.72792 30.32906, -97.72760 ...\n",
       "\n",
       "[5 rows x 3 columns]"
      ]
     },
     "execution_count": 17,
     "metadata": {
      "tags": []
     },
     "output_type": "execute_result"
    }
   ],
   "source": [
    "neigh.head()"
   ]
  },
  {
   "cell_type": "code",
   "execution_count": 28,
   "metadata": {
    "id": "3-Dl5yZm1oEp"
   },
   "outputs": [],
   "source": [
    "neigh.neighbourhood = neigh.neighbourhood.astype(int)"
   ]
  },
  {
   "cell_type": "code",
   "execution_count": 29,
   "metadata": {
    "id": "MHGA0Aob00JH"
   },
   "outputs": [],
   "source": [
    "df = pd.merge(neigh, entire, on = 'neighbourhood')"
   ]
  },
  {
   "cell_type": "code",
   "execution_count": 30,
   "metadata": {
    "id": "BV9kVGzm00Pq"
   },
   "outputs": [],
   "source": [
    "df = pd.merge(df, private, on = 'neighbourhood')"
   ]
  },
  {
   "cell_type": "code",
   "execution_count": 35,
   "metadata": {
    "colab": {
     "base_uri": "https://localhost:8080/",
     "height": 378
    },
    "id": "JGmDZ_ir16VU",
    "outputId": "136e29e1-e80e-44d7-bdfe-d032663eb52a"
   },
   "outputs": [
    {
     "data": {
      "image/png": "[encoded data removed]",
      "text/plain": [
       "<Figure size 1008x432 with 2 Axes>"
      ]
     },
     "metadata": {
      "needs_background": "light",
      "tags": []
     },
     "output_type": "display_data"
    }
   ],
   "source": [
    "## Entire house/apartment Thematic Map\n",
    "vmin, vmax = 0, 1500\n",
    "\n",
    "fig, ax = plt.subplots(1, figsize=(14,6))\n",
    "ax.set_title('Entire house/apartment')\n",
    "\n",
    "df.plot(column='Entire', cmap='GnBu', linewidth=1, ax=ax, edgecolor='.5')\n",
    "\n",
    "ax.axis('off')\n",
    "\n",
    "sm = plt.cm.ScalarMappable(cmap='GnBu', norm=plt.Normalize(vmin=vmin, vmax=vmax))\n",
    "\n",
    "sm.set_array([])\n",
    "\n",
    "cbar = fig.colorbar(sm)"
   ]
  },
  {
   "cell_type": "code",
   "execution_count": 37,
   "metadata": {
    "colab": {
     "base_uri": "https://localhost:8080/",
     "height": 378
    },
    "id": "0fIyP3Jn3D0q",
    "outputId": "4f73f27d-0af8-4c3c-b426-8fb3c49e6985"
   },
   "outputs": [
    {
     "data": {
      "image/png": "[encoded data removed]",
      "text/plain": [
       "<Figure size 1008x432 with 2 Axes>"
      ]
     },
     "metadata": {
      "needs_background": "light",
      "tags": []
     },
     "output_type": "display_data"
    }
   ],
   "source": [
    "## Entire house/apartment Thematic Map\n",
    "vmin, vmax = 0, 1500\n",
    "\n",
    "fig, ax = plt.subplots(1, figsize=(14,6))\n",
    "ax.set_title('Private Rooms')\n",
    "\n",
    "df.plot(column='Private', cmap='GnBu', linewidth=1, ax=ax, edgecolor='.5')\n",
    "\n",
    "ax.axis('off')\n",
    "\n",
    "sm = plt.cm.ScalarMappable(cmap='GnBu', norm=plt.Normalize(vmin=vmin, vmax=vmax))\n",
    "\n",
    "sm.set_array([])\n",
    "\n",
    "cbar = fig.colorbar(sm)"
   ]
  },
  {
   "cell_type": "markdown",
   "metadata": {
    "id": "jLKR3ftRzxAS"
   },
   "source": [
    "##### Question 3\n",
    "##### Top 10 hosts by their total number of listings"
   ]
  },
  {
   "cell_type": "code",
   "execution_count": null,
   "metadata": {
    "id": "OvavgBjmzxAT",
    "outputId": "ff88f9ea-4258-4e28-a1e4-96ade4077522"
   },
   "outputs": [
    {
     "data": {
      "text/plain": [
       "Kia                         398\n",
       "WanderJaunt                 131\n",
       "TurnKey Vacation Rentals    124\n",
       "Martin                      101\n",
       "Michael                      98\n",
       "David                        76\n",
       "Sarah                        74\n",
       "Ryan                         67\n",
       "James                        62\n",
       "Renters Club                 56\n",
       "Name: host_name, dtype: int64"
      ]
     },
     "execution_count": 32,
     "metadata": {
      "tags": []
     },
     "output_type": "execute_result"
    }
   ],
   "source": [
    "## using functions \n",
    "austin.host_name.value_counts().head(10)"
   ]
  },
  {
   "cell_type": "code",
   "execution_count": null,
   "metadata": {
    "id": "u2LB2MVzzxAT"
   },
   "outputs": [],
   "source": [
    "## from scratch\n",
    "dic = {}\n",
    "\n",
    "host = list(austin['host_name'])\n",
    "\n",
    "for i in range(len(host)):\n",
    "  if host[i] not in dic:\n",
    "    dic[host[i]] = 1\n",
    "  else:\n",
    "    dic[host[i]] += 1\n",
    "    \n",
    "keys = list(dic.keys())\n",
    "vals = list(dic.values())\n",
    "tp = list(dic.values())\n",
    "\n",
    "tp.sort(reverse = True)\n",
    "\n",
    "top_nei = []\n",
    "\n",
    "for i in range(10):\n",
    "  top_nei.append(keys[vals.index(tp[i])])"
   ]
  },
  {
   "cell_type": "code",
   "execution_count": null,
   "metadata": {
    "id": "AqXvR9s8zxAT",
    "outputId": "df3c4bbc-7faf-4917-c591-db2f0d329ebf"
   },
   "outputs": [
    {
     "data": {
      "text/plain": [
       "['Kia',\n",
       " 'WanderJaunt',\n",
       " 'TurnKey Vacation Rentals',\n",
       " 'Martin',\n",
       " 'Michael',\n",
       " 'David',\n",
       " 'Sarah',\n",
       " 'Ryan',\n",
       " 'James',\n",
       " 'Renters Club']"
      ]
     },
     "execution_count": 36,
     "metadata": {
      "tags": []
     },
     "output_type": "execute_result"
    }
   ],
   "source": [
    "top_nei"
   ]
  },
  {
   "cell_type": "markdown",
   "metadata": {
    "id": "JzEvWDfCzxAT"
   },
   "source": [
    "##### Question 4\n",
    "##### Insight/Metric\n",
    "\n",
    "##### Metric I've chosen is average prices of various room_types in Austin's Airbnbs"
   ]
  },
  {
   "cell_type": "code",
   "execution_count": 39,
   "metadata": {
    "colab": {
     "base_uri": "https://localhost:8080/",
     "height": 301
    },
    "id": "8CODMamazxAU",
    "outputId": "a4004989-8620-4460-9e92-ae6791b59b38"
   },
   "outputs": [
    {
     "data": {
      "text/html": [
       "<div>\n",
       "<style scoped>\n",
       "    .dataframe tbody tr th:only-of-type {\n",
       "        vertical-align: middle;\n",
       "    }\n",
       "\n",
       "    .dataframe tbody tr th {\n",
       "        vertical-align: top;\n",
       "    }\n",
       "\n",
       "    .dataframe thead th {\n",
       "        text-align: right;\n",
       "    }\n",
       "</style>\n",
       "<table border=\"1\" class=\"dataframe\">\n",
       "  <thead>\n",
       "    <tr style=\"text-align: right;\">\n",
       "      <th></th>\n",
       "      <th>host_name</th>\n",
       "      <th>neighbourhood</th>\n",
       "      <th>latitude</th>\n",
       "      <th>longitude</th>\n",
       "      <th>room_type</th>\n",
       "      <th>price</th>\n",
       "      <th>minimum_nights</th>\n",
       "      <th>number_of_reviews</th>\n",
       "      <th>last_review</th>\n",
       "      <th>reviews_per_month</th>\n",
       "      <th>calculated_host_listings_count</th>\n",
       "      <th>availability_365</th>\n",
       "    </tr>\n",
       "  </thead>\n",
       "  <tbody>\n",
       "    <tr>\n",
       "      <th>0</th>\n",
       "      <td>Paddy</td>\n",
       "      <td>78702</td>\n",
       "      <td>30.27750</td>\n",
       "      <td>-97.71398</td>\n",
       "      <td>Entire home/apt</td>\n",
       "      <td>200</td>\n",
       "      <td>7</td>\n",
       "      <td>24</td>\n",
       "      <td>2019-03-16</td>\n",
       "      <td>0.17</td>\n",
       "      <td>3</td>\n",
       "      <td>131</td>\n",
       "    </tr>\n",
       "    <tr>\n",
       "      <th>1</th>\n",
       "      <td>Paddy</td>\n",
       "      <td>78702</td>\n",
       "      <td>30.27577</td>\n",
       "      <td>-97.71379</td>\n",
       "      <td>Private room</td>\n",
       "      <td>114</td>\n",
       "      <td>30</td>\n",
       "      <td>9</td>\n",
       "      <td>2018-03-14</td>\n",
       "      <td>0.06</td>\n",
       "      <td>3</td>\n",
       "      <td>0</td>\n",
       "    </tr>\n",
       "    <tr>\n",
       "      <th>2</th>\n",
       "      <td>Sylvia</td>\n",
       "      <td>78702</td>\n",
       "      <td>30.26112</td>\n",
       "      <td>-97.73448</td>\n",
       "      <td>Entire home/apt</td>\n",
       "      <td>104</td>\n",
       "      <td>2</td>\n",
       "      <td>543</td>\n",
       "      <td>2021-02-01</td>\n",
       "      <td>3.74</td>\n",
       "      <td>1</td>\n",
       "      <td>354</td>\n",
       "    </tr>\n",
       "    <tr>\n",
       "      <th>3</th>\n",
       "      <td>Peggy</td>\n",
       "      <td>78704</td>\n",
       "      <td>30.24630</td>\n",
       "      <td>-97.76361</td>\n",
       "      <td>Entire home/apt</td>\n",
       "      <td>46</td>\n",
       "      <td>30</td>\n",
       "      <td>21</td>\n",
       "      <td>2020-11-06</td>\n",
       "      <td>0.15</td>\n",
       "      <td>2</td>\n",
       "      <td>67</td>\n",
       "    </tr>\n",
       "    <tr>\n",
       "      <th>4</th>\n",
       "      <td>Elizabeth</td>\n",
       "      <td>78729</td>\n",
       "      <td>30.45697</td>\n",
       "      <td>-97.78422</td>\n",
       "      <td>Private room</td>\n",
       "      <td>39</td>\n",
       "      <td>1</td>\n",
       "      <td>259</td>\n",
       "      <td>2021-02-10</td>\n",
       "      <td>1.96</td>\n",
       "      <td>1</td>\n",
       "      <td>79</td>\n",
       "    </tr>\n",
       "  </tbody>\n",
       "</table>\n",
       "</div>"
      ],
      "text/plain": [
       "   host_name  neighbourhood  ...  calculated_host_listings_count  availability_365\n",
       "0      Paddy          78702  ...                               3               131\n",
       "1      Paddy          78702  ...                               3                 0\n",
       "2     Sylvia          78702  ...                               1               354\n",
       "3      Peggy          78704  ...                               2                67\n",
       "4  Elizabeth          78729  ...                               1                79\n",
       "\n",
       "[5 rows x 12 columns]"
      ]
     },
     "execution_count": 39,
     "metadata": {
      "tags": []
     },
     "output_type": "execute_result"
    }
   ],
   "source": [
    "austin.head()"
   ]
  },
  {
   "cell_type": "code",
   "execution_count": 41,
   "metadata": {
    "colab": {
     "base_uri": "https://localhost:8080/"
    },
    "id": "cSHtxLrl8ZkM",
    "outputId": "24e313bf-ccd5-4fdd-cb63-435008e77f9f"
   },
   "outputs": [
    {
     "data": {
      "text/plain": [
       "Entire home/apt    7962\n",
       "Private room       2166\n",
       "Shared room         133\n",
       "Hotel room           11\n",
       "Name: room_type, dtype: int64"
      ]
     },
     "execution_count": 41,
     "metadata": {
      "tags": []
     },
     "output_type": "execute_result"
    }
   ],
   "source": [
    "austin.room_type.value_counts()"
   ]
  },
  {
   "cell_type": "code",
   "execution_count": 60,
   "metadata": {
    "id": "ISW_p540DGWm"
   },
   "outputs": [],
   "source": [
    "entire = austin[austin['room_type'] == 'Entire home/apt'].loc[:, 'price']\n",
    "private = austin[austin['room_type'] == 'Private room'].loc[:, 'price']\n",
    "shared = austin[austin['room_type'] == 'Shared room'].loc[:, 'price']\n",
    "hotel = austin[austin['room_type'] == 'Hotel room'].loc[:, 'price']"
   ]
  },
  {
   "cell_type": "code",
   "execution_count": 62,
   "metadata": {
    "id": "R5IhmQZiDSJS"
   },
   "outputs": [],
   "source": [
    "dic = {'Entire home/apt': sum(entire)/len(entire), \n",
    "       'Private Room': sum(private)/len(private),\n",
    "       'Shared room': sum(shared)/len(shared),\n",
    "       'Hotel room': sum(hotel)/len(hotel)}"
   ]
  },
  {
   "cell_type": "code",
   "execution_count": 72,
   "metadata": {
    "id": "_PgOVDLTDS6W"
   },
   "outputs": [],
   "source": [
    "avg_price = pd.DataFrame.from_dict(dic.items())"
   ]
  },
  {
   "cell_type": "code",
   "execution_count": 73,
   "metadata": {
    "id": "SR29PDuxFB9a"
   },
   "outputs": [],
   "source": [
    "avg_price.columns = ['Room Type', 'Average Price']"
   ]
  },
  {
   "cell_type": "code",
   "execution_count": 74,
   "metadata": {
    "colab": {
     "base_uri": "https://localhost:8080/",
     "height": 167
    },
    "id": "v-0ig0YzIT0u",
    "outputId": "8a1bf19d-84a6-4798-d005-fb7f0f130045"
   },
   "outputs": [
    {
     "data": {
      "text/html": [
       "<div>\n",
       "<style scoped>\n",
       "    .dataframe tbody tr th:only-of-type {\n",
       "        vertical-align: middle;\n",
       "    }\n",
       "\n",
       "    .dataframe tbody tr th {\n",
       "        vertical-align: top;\n",
       "    }\n",
       "\n",
       "    .dataframe thead th {\n",
       "        text-align: right;\n",
       "    }\n",
       "</style>\n",
       "<table border=\"1\" class=\"dataframe\">\n",
       "  <thead>\n",
       "    <tr style=\"text-align: right;\">\n",
       "      <th></th>\n",
       "      <th>Room Type</th>\n",
       "      <th>Average Price</th>\n",
       "    </tr>\n",
       "  </thead>\n",
       "  <tbody>\n",
       "    <tr>\n",
       "      <th>0</th>\n",
       "      <td>Entire home/apt</td>\n",
       "      <td>297.384326</td>\n",
       "    </tr>\n",
       "    <tr>\n",
       "      <th>1</th>\n",
       "      <td>Private Room</td>\n",
       "      <td>112.047553</td>\n",
       "    </tr>\n",
       "    <tr>\n",
       "      <th>2</th>\n",
       "      <td>Shared room</td>\n",
       "      <td>68.894737</td>\n",
       "    </tr>\n",
       "    <tr>\n",
       "      <th>3</th>\n",
       "      <td>Hotel room</td>\n",
       "      <td>588.363636</td>\n",
       "    </tr>\n",
       "  </tbody>\n",
       "</table>\n",
       "</div>"
      ],
      "text/plain": [
       "         Room Type  Average Price\n",
       "0  Entire home/apt     297.384326\n",
       "1     Private Room     112.047553\n",
       "2      Shared room      68.894737\n",
       "3       Hotel room     588.363636"
      ]
     },
     "execution_count": 74,
     "metadata": {
      "tags": []
     },
     "output_type": "execute_result"
    }
   ],
   "source": [
    "avg_price"
   ]
  },
  {
   "cell_type": "markdown",
   "metadata": {
    "id": "CD6oZPvgJBBN"
   },
   "source": [
    "##### According to the above data, Hotel Room is the most expensive while Shared Rooms are the cheapest."
   ]
  },
  {
   "cell_type": "markdown",
   "metadata": {
    "id": "Z193cHR-J-0O"
   },
   "source": [
    "##### End of Assignment/Notebook"
   ]
  }
 ],
 "metadata": {
  "colab": {
   "collapsed_sections": [],
   "name": "UnMazer_DSIntern.ipynb",
   "provenance": []
  },
  "kernelspec": {
   "display_name": "Python 3",
   "language": "python",
   "name": "python3"
  },
  "language_info": {
   "codemirror_mode": {
    "name": "ipython",
    "version": 3
   },
   "file_extension": ".py",
   "mimetype": "text/x-python",
   "name": "python",
   "nbconvert_exporter": "python",
   "pygments_lexer": "ipython3",
   "version": "3.7.8"
  }
 },
 "nbformat": 4,
 "nbformat_minor": 1
}
